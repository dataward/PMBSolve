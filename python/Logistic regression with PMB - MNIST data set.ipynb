{
 "cells": [
  {
   "cell_type": "code",
   "execution_count": 30,
   "metadata": {
    "collapsed": true
   },
   "outputs": [],
   "source": [
    "%matplotlib inline\n",
    "import numpy as np\n",
    "from pmb_scipy import pmbsolve\n",
    "from scipy.optimize import minimize"
   ]
  },
  {
   "cell_type": "markdown",
   "metadata": {},
   "source": [
    "The logistic regression objective function and its derivative. Regularization included."
   ]
  },
  {
   "cell_type": "code",
   "execution_count": 29,
   "metadata": {
    "collapsed": true
   },
   "outputs": [],
   "source": [
    "def sigmoid(z):\n",
    "    return 1/(1+np.exp(-z))\n",
    "\n",
    "def logreg(theta, *args):\n",
    "    # args = (X,y,lambda)\n",
    "    m = args[0].shape[0]  # number of instances\n",
    "    lam = args[2] # regularization parameter\n",
    "    z = np.dot(args[0],theta)\n",
    "    J = sum(z + np.log(1+np.exp(-z))) - np.dot(z,args[1])\n",
    "    J += 0.5*lam*np.dot(theta[1:],theta[1:])\n",
    "    return J/m\n",
    "\n",
    "def logreg_deriv(theta, *args):\n",
    "    # args = (X,y,lambda)\n",
    "    lam = args[2] # regularization parameter\n",
    "    z = np.dot(args[0],theta)\n",
    "    grad = np.dot(args[0].transpose(), 1/(1+np.exp(-z)) - y)\n",
    "    grad[1:] += lam * theta[1:] # NB: regularization is not applied to the bias term\n",
    "    return grad/args[0].shape[0]"
   ]
  },
  {
   "cell_type": "markdown",
   "metadata": {},
   "source": [
    "MNIST training data set in CSV form"
   ]
  },
  {
   "cell_type": "code",
   "execution_count": 15,
   "metadata": {
    "collapsed": true
   },
   "outputs": [],
   "source": [
    "train = np.loadtxt(\"data/mnist_train.csv\",delimiter=\",\")"
   ]
  },
  {
   "cell_type": "code",
   "execution_count": 17,
   "metadata": {},
   "outputs": [
    {
     "data": {
      "image/png": "[encoded data removed]",
      "text/plain": [
       "<matplotlib.figure.Figure at 0x7fb277d47748>"
      ]
     },
     "metadata": {},
     "output_type": "display_data"
    }
   ],
   "source": [
    "plt.figure(figsize=(10,10))\n",
    "for i in range(1,10):\n",
    "    plt.subplot(3,3,i)\n",
    "    row = np.random.randint(0,60001)\n",
    "    plt.imshow(train[row,1:].reshape((28,28)),cmap=\"Greys\")"
   ]
  },
  {
   "cell_type": "markdown",
   "metadata": {},
   "source": [
    "The digit value to learn:"
   ]
  },
  {
   "cell_type": "code",
   "execution_count": null,
   "metadata": {
    "collapsed": true
   },
   "outputs": [],
   "source": [
    "value = 5"
   ]
  },
  {
   "cell_type": "markdown",
   "metadata": {},
   "source": [
    "Separate the data into the design matrix X and the target vector y."
   ]
  },
  {
   "cell_type": "code",
   "execution_count": 16,
   "metadata": {},
   "outputs": [
    {
     "data": {
      "text/plain": [
       "(60000, 785)"
      ]
     },
     "execution_count": 16,
     "metadata": {},
     "output_type": "execute_result"
    }
   ],
   "source": [
    "X = np.copy(train)/train.max() # Normalize the data, otherwise the exp() overflows.\n",
    "X[:,0] = np.ones(X.shape[0]) # Add the column of ones for the bias.\n",
    "\n",
    "# y[i] is 1 if the digit equals the specified value, otherwise 0.\n",
    "y = np.array([1 if target==value else 0 for target in train[:,0]])\n",
    "\n",
    "m, n = X.shape\n",
    "theta_0 = np.random.randn(n)"
   ]
  },
  {
   "cell_type": "code",
   "execution_count": null,
   "metadata": {
    "collapsed": true
   },
   "outputs": [],
   "source": []
  },
  {
   "cell_type": "code",
   "execution_count": 18,
   "metadata": {
    "collapsed": true
   },
   "outputs": [],
   "source": [
    "X = np.copy(data)\n",
    "y = np.copy(data[:,0])\n",
    "X[:,0] = np.ones(X.shape[0])"
   ]
  },
  {
   "cell_type": "code",
   "execution_count": 23,
   "metadata": {
    "collapsed": true
   },
   "outputs": [],
   "source": [
    "del data # save memory"
   ]
  },
  {
   "cell_type": "markdown",
   "metadata": {},
   "source": [
    "Determine weight parameters by minimizing with PMB"
   ]
  },
  {
   "cell_type": "code",
   "execution_count": null,
   "metadata": {
    "collapsed": true
   },
   "outputs": [],
   "source": []
  }
 ],
 "metadata": {
  "kernelspec": {
   "display_name": "Python 3",
   "language": "python",
   "name": "python3"
  },
  "language_info": {
   "codemirror_mode": {
    "name": "ipython",
    "version": 3
   },
   "file_extension": ".py",
   "mimetype": "text/x-python",
   "name": "python",
   "nbconvert_exporter": "python",
   "pygments_lexer": "ipython3",
   "version": "3.6.1"
  }
 },
 "nbformat": 4,
 "nbformat_minor": 2
}
