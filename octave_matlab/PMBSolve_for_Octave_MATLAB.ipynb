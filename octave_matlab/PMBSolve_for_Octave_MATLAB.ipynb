{
 "cells": [
  {
   "cell_type": "markdown",
   "metadata": {},
   "source": [
    "# Preconditioned Model Building (PMB)\n",
    "\n",
    "PMB is a method for solving differentiable unconstrained optimization problems. The method requires two arguments: a handle to the objective function, $f:\\mathbb{R}^n \\mapsto \\mathbb{R}$ and an initial starting solution, $x_0 \\in \\mathbb{R}^n$. The function handle should return the function value as well as the gradient vector. There is also an optional third argument ```pars```, which is used to specify different parameters (more on this later). \n",
    "\n",
    "Here are six functions that we shall use for demonstrating PMB."
   ]
  },
  {
   "cell_type": "code",
   "execution_count": 1,
   "metadata": {
    "collapsed": true
   },
   "outputs": [],
   "source": [
    "funcs = {@(x)rosenbrock(x), @(x)fletchcr(x), @(x)eg2(x), @(x)liarwhd(x), ...\n",
    "         @(x)edensch(x), @(x)nonscomp(x)};\n",
    "fun = funcs{1};"
   ]
  },
  {
   "cell_type": "markdown",
   "metadata": {},
   "source": [
    "Let's start with the well-known ```rosenbrock```. The optimal objective function value for this function is 0.0. We first create a handle to the function and an initial starting solution."
   ]
  },
  {
   "cell_type": "code",
   "execution_count": 2,
   "metadata": {
    "collapsed": true
   },
   "outputs": [],
   "source": [
    "fun = funcs{1}; % handle to the function\n",
    "n = 10; % dimension of the problem\n",
    "% initial starting solution\n",
    "x0 = 5.0 + rand(n,1)*10.0;"
   ]
  },
  {
   "cell_type": "markdown",
   "metadata": {},
   "source": [
    "The name of PMB solver is ```pmbsolve```."
   ]
  },
  {
   "cell_type": "code",
   "execution_count": 3,
   "metadata": {},
   "outputs": [
    {
     "name": "stdout",
     "output_type": "stream",
     "text": [
      "Function value decreases less than ftol\n"
     ]
    }
   ],
   "source": [
    "pmbout = pmbsolve(fun, x0);"
   ]
  },
  {
   "cell_type": "markdown",
   "metadata": {},
   "source": [
    "Here is the output structure."
   ]
  },
  {
   "cell_type": "code",
   "execution_count": 4,
   "metadata": {},
   "outputs": [
    {
     "name": "stdout",
     "output_type": "stream",
     "text": [
      "ans = \n",
      "\n",
      "    'fcalls'\n",
      "    'nmbs'\n",
      "    'exit'\n",
      "    'time'\n",
      "    'x'\n",
      "    'fval'\n",
      "    'g'\n",
      "    'niter'\n"
     ]
    }
   ],
   "source": [
    "fieldnames(pmbout)"
   ]
  },
  {
   "cell_type": "markdown",
   "metadata": {},
   "source": [
    "The description of each field is given below:\n",
    "* ```fcalls```: Total number of function calls to solve the problem\n",
    "* ```nmbs```: Total number of times a model is built during the inner iterations\n",
    "* ```exit```: Exit status (the associated parameters with each status is given in parantheses)\n",
    "    * 1: First order condition is met (```pars.gtol```)\n",
    "    * 0: Maximum number of inner iterations is reached (```pars.maxiniter```)\n",
    "    * -1: Maximum number of iterations is reached (```pars.maxiter```)\n",
    "    * -2: Maximum number of function calls is reached (```pars.maxfcalls```)\n",
    "    * -3: Time limit is reached (```pars.maxtime```)\n",
    "    * -4: Change in function value between two consecutive iterations is below tolerance (```pars.ftol```)\n",
    "* ```time```: Time to solve the problem in seconds\n",
    "* ```x```: Final solution\n",
    "* ```g```: Final gradient at $x$\n",
    "* ```niter```: Number of iterations"
   ]
  },
  {
   "cell_type": "code",
   "execution_count": 5,
   "metadata": {},
   "outputs": [
    {
     "name": "stdout",
     "output_type": "stream",
     "text": [
      "PMB Objective Function Value: 0.000000\n",
      "PMB Final Gradient Norm Value: 0.001542\n",
      "PMB Number of function calls: 166\n",
      "Number of iterations: 117\n",
      "Number of model building steps: 49\n",
      "Time in seconds: 8.748678e-02\n"
     ]
    }
   ],
   "source": [
    "fprintf('PMB Objective Function Value: %f\\n', pmbout.fval);\n",
    "fprintf('PMB Final Gradient Norm Value: %f\\n', norm(pmbout.g,'inf'));\n",
    "fprintf('PMB Number of function calls: %d\\n', pmbout.fcalls);\n",
    "fprintf('Number of iterations: %d\\n', pmbout.niter);\n",
    "fprintf('Number of model building steps: %d\\n', pmbout.nmbs);\n",
    "fprintf('Time in seconds: %d', pmbout.time);"
   ]
  },
  {
   "cell_type": "markdown",
   "metadata": {},
   "source": [
    "How about a large-scale version of the same problem?"
   ]
  },
  {
   "cell_type": "code",
   "execution_count": 6,
   "metadata": {},
   "outputs": [
    {
     "name": "stdout",
     "output_type": "stream",
     "text": [
      "Function value decreases less than ftol\n",
      "PMB Objective Function Value: 0.000000\n",
      "PMB Final Gradient Norm Value: 0.001830\n",
      "PMB Number of function calls: 155\n",
      "Number of iterations: 118\n",
      "Number of model building steps: 37\n",
      "Time in seconds: 2.107836e-02\n"
     ]
    }
   ],
   "source": [
    "n = 1000;\n",
    "x0 = 5.0 + rand(n,1)*10.0;\n",
    "pmbout = pmbsolve(fun, x0);\n",
    "fprintf('PMB Objective Function Value: %f\\n', pmbout.fval);\n",
    "fprintf('PMB Final Gradient Norm Value: %f\\n', norm(pmbout.g,'inf'));\n",
    "fprintf('PMB Number of function calls: %d\\n', pmbout.fcalls);\n",
    "fprintf('Number of iterations: %d\\n', pmbout.niter);\n",
    "fprintf('Number of model building steps: %d\\n', pmbout.nmbs);\n",
    "fprintf('Time in seconds: %d', pmbout.time);"
   ]
  },
  {
   "cell_type": "markdown",
   "metadata": {},
   "source": [
    "We can also try other functions with even larger dimensions. For instance a 100K-dimensional ```nonscomp```, whose optimal objective function value is again 0.0."
   ]
  },
  {
   "cell_type": "code",
   "execution_count": 11,
   "metadata": {},
   "outputs": [
    {
     "name": "stdout",
     "output_type": "stream",
     "text": [
      "Function value decreases less than ftol\n",
      "PMB Objective Function Value: 0.000000\n",
      "PMB Final Gradient Norm Value: 0.000088\n",
      "PMB Number of function calls: 144\n",
      "Number of iterations: 112\n",
      "Number of model building steps: 32\n",
      "Time in seconds: 9.043891e-01\n"
     ]
    }
   ],
   "source": [
    "fun = funcs{6};\n",
    "n = 100000;\n",
    "x0 = 5.0 + rand(n,1)*10.0;\n",
    "pmbout = pmbsolve(fun, x0);\n",
    "fprintf('PMB Objective Function Value: %f\\n', pmbout.fval);\n",
    "fprintf('PMB Final Gradient Norm Value: %f\\n', norm(pmbout.g,'inf'));\n",
    "fprintf('PMB Number of function calls: %d\\n', pmbout.fcalls);\n",
    "fprintf('Number of iterations: %d\\n', pmbout.niter);\n",
    "fprintf('Number of model building steps: %d\\n', pmbout.nmbs);\n",
    "fprintf('Time in seconds: %d', pmbout.time);"
   ]
  },
  {
   "cell_type": "markdown",
   "metadata": {},
   "source": [
    "## Options\n",
    "\n",
    "The solver also takes an optional argument ```pars```. This parameter has the following fields. Note that the default values of the parameters are given in parantheses:\n",
    "\n",
    "* ```M```: The memory size for the preconditioner (```5```)\n",
    "* ```gtol```: The tolerance for the first-order optimality (```1.0e-5```)\n",
    "* ```ftol```: The normalized difference between two consecutive function values (```1.0e-8```)\n",
    "* ```display```: To display information about the progress in every iteration (```false```)\n",
    "* ```message```: Shows a message about the exit condition or errors (```true```)\n",
    "* ```history```: Stores the function values and the first-order errors throughout the iterations (```false```) \n",
    "* ```maxiter```: Maximum number of iterations (```1000```)\n",
    "* ```maxiniter```: Maximum number of inner iterations for model building (```100```)\n",
    "* ```maxfcalls```: Maximum number of function calls (```1000```)\n",
    "* ```maxtime```: Maximum computation time in seconds (```3600```)\n",
    "\n",
    "To change one of these parameters, we need to specify the value by using ```pars``` keyword defined within ```pmbsolve```. Suppose that we want to plot the progress of the objective function values when ```pmbsolve``` is called for 100-dimensional ```fletchcr``` (optimal objective function value is 0.0)."
   ]
  },
  {
   "cell_type": "code",
   "execution_count": 18,
   "metadata": {},
   "outputs": [
    {
     "data": {
      "image/png": "[encoded data removed]",
      "text/plain": [
       "<IPython.core.display.Image object>"
      ]
     },
     "metadata": {},
     "output_type": "display_data"
    },
    {
     "name": "stdout",
     "output_type": "stream",
     "text": [
      "Iter: 1 ===> f = 148745460.722359 \t norm(g) = 13869.054975\n",
      "Iter: 2 ===> f = 122778463.996497 \t norm(g) = 11263.101530\n",
      "Iter: 3 ===> f = 29168532.065399 \t norm(g) = 3786.345254\n",
      "Iter: 4 ===> f = 11007015.510744 \t norm(g) = 1626.476251\n",
      "Iter: 5 ===> f = 3337127.475429 \t norm(g) = 736.414844\n",
      "Iter: 6 ===> f = 1063752.691518 \t norm(g) = 273.058539\n",
      "Iter: 7 ===> f = 319550.646025 \t norm(g) = 145.327445\n",
      "Iter: 8 ===> f = 92114.802881 \t norm(g) = 45.165242\n",
      "Iter: 9 ===> f = 23998.710534 \t norm(g) = 35.859481\n",
      "Iter: 10 ===> f = 5270.940227 \t norm(g) = 16.302326\n",
      "Iter: 11 ===> f = 709.171254 \t norm(g) = 6.831057\n",
      "Iter: 12 ===> f = 204.005340 \t norm(g) = 16.026034\n",
      "Iter: 13 ===> f = 45.795015 \t norm(g) = 6.317916\n",
      "Iter: 14 ===> f = 8.315649 \t norm(g) = 1.118042\n",
      "Iter: 15 ===> f = 3.109172 \t norm(g) = 0.538048\n",
      "Iter: 16 ===> f = 0.724116 \t norm(g) = 0.234188\n",
      "Iter: 17 ===> f = 0.157365 \t norm(g) = 0.076130\n",
      "Iter: 18 ===> f = 0.013922 \t norm(g) = 0.031722\n",
      "Iter: 19 ===> f = 0.004006 \t norm(g) = 0.034749\n",
      "Iter: 20 ===> f = 0.000535 \t norm(g) = 0.016471\n",
      "Iter: 21 ===> f = 0.000188 \t norm(g) = 0.001577\n",
      "Iter: 22 ===> f = 0.000094 \t norm(g) = 0.001481\n",
      "Iter: 23 ===> f = 0.000005 \t norm(g) = 0.000572\n",
      "Iter: 24 ===> f = 0.000001 \t norm(g) = 0.000297\n",
      "Iter: 25 ===> f = 0.000000 \t norm(g) = 0.000114\n",
      "Iter: 26 ===> f = 0.000000 \t norm(g) = 0.000019\n",
      "Function value decreases less than ftol\n"
     ]
    }
   ],
   "source": [
    "fun = funcs{2};\n",
    "n = 100;\n",
    "x0 = 5.0 + rand(n,1)*10.0;\n",
    "pars.history = true;\n",
    "pars.display = true;\n",
    "pmbout = pmbsolve(fun, x0, pars); % NOTE the third optional argument\n",
    "plot(1:length(pmbout.fhist), pmbout.fhist, '--r', 'linewidth', 3.0)"
   ]
  },
  {
   "cell_type": "markdown",
   "metadata": {
    "collapsed": true
   },
   "source": [
    "## Matrix Factorization\n",
    "\n",
    "As our last example, we solve a matrix factorization problem. We shall try to factorize an $n \\times m$ data matrix $Y$ to obtain two matrices  $Z_1 \\in \\mathbb{R}^{n \\times k}$ and $Z_2 \\in \\mathbb{R}^{k \\times m}$ by solving\n",
    "\n",
    "$$\n",
    "\\underset{Z1, Z2}{\\min} \\ \\tfrac{1}{2N}\\|Y - Z_1Z_2\\|^2.\n",
    "$$\n",
    "\n",
    "Here, $k$ is called the _rank_ or the _latent dimension_, and $N$ is the number of nonzeros in $Y$. \n",
    "\n",
    "For our numerical experiment, we can use the [MovieLens data set](https://grouplens.org/datasets/movielens/) with one million ratings ($N$ = 1M). The data file is available with this repository as a zipped file (\"X_3883_6040.dat.zip\"). After unzipping the file, we first load the sparse data matrix, $Y$."
   ]
  },
  {
   "cell_type": "code",
   "execution_count": 15,
   "metadata": {
    "collapsed": true
   },
   "outputs": [],
   "source": [
    "load X_3883_6040.dat\n",
    "Y = spconvert(X_3883_6040);\n",
    "[nrows, ncols] = size(Y);"
   ]
  },
  {
   "cell_type": "markdown",
   "metadata": {},
   "source": [
    "Suppose that the latent dimension is 50. We then create a handle to the function ```matfac```, which evaluates the mean square error."
   ]
  },
  {
   "cell_type": "code",
   "execution_count": 16,
   "metadata": {
    "collapsed": true
   },
   "outputs": [],
   "source": [
    "lat = 50; \n",
    "n = (nrows + ncols)*lat;\n",
    "x0 = sqrt(randi(5, n, 1)/lat);\n",
    "datasize = full(sum(sum(Y>0)));\n",
    "fun = @(x)matfac(x, Y, lat, datasize);"
   ]
  },
  {
   "cell_type": "markdown",
   "metadata": {},
   "source": [
    "We are ready to solve the problem. When it comes to presenting the results for the matrix factorization problem, it is common to report the root mean square error."
   ]
  },
  {
   "cell_type": "code",
   "execution_count": 17,
   "metadata": {},
   "outputs": [
    {
     "name": "stdout",
     "output_type": "stream",
     "text": [
      "First order condition is within gtol\n",
      "Root Mean Square Error 0.516365\n",
      "PMB Final Gradient Norm Value: 0.000009\n",
      "PMB Number of function calls: 329\n",
      "Number of iterations: 308\n",
      "Number of model building steps: 21\n",
      "Time in seconds: 8.791452e+01\n"
     ]
    }
   ],
   "source": [
    "pmbout = pmbsolve(fun, x0);\n",
    "fprintf('Root Mean Square Error %f\\n', sqrt(2.0*pmbout.fval));\n",
    "fprintf('PMB Final Gradient Norm Value: %f\\n', norm(pmbout.g,'inf'));\n",
    "fprintf('PMB Number of function calls: %d\\n', pmbout.fcalls);\n",
    "fprintf('Number of iterations: %d\\n', pmbout.niter);\n",
    "fprintf('Number of model building steps: %d\\n', pmbout.nmbs);\n",
    "fprintf('Time in seconds: %d', pmbout.time);"
   ]
  },
  {
   "cell_type": "markdown",
   "metadata": {
    "collapsed": true
   },
   "source": [
    "You can compare these results with one of the state-of-the-art incremental solvers [HAMSI-MF](https://github.com/spartensor/hamsi-mf)."
   ]
  }
 ],
 "metadata": {
  "kernelspec": {
   "display_name": "Matlab",
   "language": "matlab",
   "name": "matlab"
  },
  "language_info": {
   "codemirror_mode": "octave",
   "file_extension": ".m",
   "help_links": [
    {
     "text": "MetaKernel Magics",
     "url": "https://github.com/calysto/metakernel/blob/master/metakernel/magics/README.md"
    }
   ],
   "mimetype": "text/x-octave",
   "name": "matlab",
   "version": "0.11.0"
  }
 },
 "nbformat": 4,
 "nbformat_minor": 2
}
