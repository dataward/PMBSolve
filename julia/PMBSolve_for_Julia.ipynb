{
 "cells": [
  {
   "cell_type": "markdown",
   "metadata": {},
   "source": [
    "# Preconditioned Model Building (PMB)\n",
    "\n",
    "PMB is a method for solving differentiable unconstrained optimization problems. The method requires two arguments: a handle to the objective function, $f:\\mathbb{R}^n \\mapsto \\mathbb{R}$ and an initial starting solution, $x_0 \\in \\mathbb{R}^n$. The function handle should return the function value as well as the gradient vector. There is also an optional third argument ```pars```, which is used to specify different parameters (more on this later). \n",
    "\n",
    "Here are six functions that we shall use for demonstrating PMB."
   ]
  },
  {
   "cell_type": "code",
   "execution_count": 1,
   "metadata": {
    "collapsed": true
   },
   "outputs": [],
   "source": [
    "include(\"testfunctions.jl\")\n",
    "funcs = [rosenbrock, fletchcr, eg2, liarwhd, edensch, nonscomp];"
   ]
  },
  {
   "cell_type": "markdown",
   "metadata": {},
   "source": [
    "Let's start with the well-known ```rosenbrock```. The optimal objective function value for this function is 0.0. First we need to include the PMB solver called ```pmbsolve```."
   ]
  },
  {
   "cell_type": "code",
   "execution_count": 2,
   "metadata": {},
   "outputs": [
    {
     "data": {
      "text/plain": [
       "pmbsolve (generic function with 2 methods)"
      ]
     },
     "execution_count": 2,
     "metadata": {},
     "output_type": "execute_result"
    }
   ],
   "source": [
    "include(\"pmbsolve.jl\")"
   ]
  },
  {
   "cell_type": "markdown",
   "metadata": {},
   "source": [
    "We then create a handle to the function and an initial starting solution."
   ]
  },
  {
   "cell_type": "code",
   "execution_count": 3,
   "metadata": {
    "collapsed": true
   },
   "outputs": [],
   "source": [
    "fun = funcs[1] # handle to the function\n",
    "n = 10 # dimension of the problem\n",
    "# initial starting solution\n",
    "x0 = 5.0 + rand(n)*10.0;"
   ]
  },
  {
   "cell_type": "code",
   "execution_count": 4,
   "metadata": {},
   "outputs": [
    {
     "name": "stdout",
     "output_type": "stream",
     "text": [
      "Function value decreases less than ftol\n"
     ]
    }
   ],
   "source": [
    "pmbout = pmbsolve(fun, x0);"
   ]
  },
  {
   "cell_type": "markdown",
   "metadata": {},
   "source": [
    "Here is the output structure."
   ]
  },
  {
   "cell_type": "code",
   "execution_count": 5,
   "metadata": {},
   "outputs": [
    {
     "data": {
      "text/plain": [
       "10-element Array{Symbol,1}:\n",
       " :x     \n",
       " :fval  \n",
       " :g     \n",
       " :fhist \n",
       " :nghist\n",
       " :fcalls\n",
       " :niter \n",
       " :nmbs  \n",
       " :exit  \n",
       " :time  "
      ]
     },
     "execution_count": 5,
     "metadata": {},
     "output_type": "execute_result"
    }
   ],
   "source": [
    "fieldnames(pmbout)"
   ]
  },
  {
   "cell_type": "markdown",
   "metadata": {},
   "source": [
    "The description of each field is given below:\n",
    "* ```fcalls```: Total number of function calls to solve the problem\n",
    "* ```nmbs```: Total number of times a model is built during the inner iterations\n",
    "* ```exit```: Exit status (the associated parameters with each status is given in parantheses)\n",
    "    * 1: First order condition is met (```pars.gtol```)\n",
    "    * 0: Maximum number of inner iterations is reached (```pars.maxiniter```)\n",
    "    * -1: Maximum number of iterations is reached (```pars.maxiter```)\n",
    "    * -2: Maximum number of function calls is reached (```pars.maxfcalls```)\n",
    "    * -3: Time limit is reached (```pars.maxtime```)\n",
    "    * -4: Change in function value between two consecutive iterations is below tolerance (```pars.ftol```)\n",
    "* ```time```: Time to solve the problem in seconds\n",
    "* ```x```: Final solution\n",
    "* ```g```: Final gradient at $x$\n",
    "* ```niter```: Number of iterations"
   ]
  },
  {
   "cell_type": "code",
   "execution_count": 6,
   "metadata": {},
   "outputs": [
    {
     "name": "stdout",
     "output_type": "stream",
     "text": [
      "Objective function value: 4.3512938330974133e-10\n",
      "Norm of the gradient: 0.0008231214989091986\n",
      "Number of function calls: 208\n",
      "Number of iterations: 99\n",
      "Number of model building steps: 108\n",
      "Time in seconds: 0.4311511516571045\n"
     ]
    }
   ],
   "source": [
    "println(\"Objective function value: \", pmbout.fval)\n",
    "println(\"Norm of the gradient: \", norm(pmbout.g, Inf))\n",
    "println(\"Number of function calls: \", pmbout.fcalls)\n",
    "println(\"Number of iterations: \", pmbout.niter)\n",
    "println(\"Number of model building steps: \", pmbout.nmbs)\n",
    "println(\"Time in seconds: \", pmbout.time)"
   ]
  },
  {
   "cell_type": "markdown",
   "metadata": {},
   "source": [
    "How about a large-scale version of the same problem?"
   ]
  },
  {
   "cell_type": "code",
   "execution_count": 8,
   "metadata": {},
   "outputs": [
    {
     "name": "stdout",
     "output_type": "stream",
     "text": [
      "Function value decreases less than ftol\n",
      "Objective function value: 3.036399732309477e-8\n",
      "Norm of the gradient: 0.0013528236199341198\n",
      "Number of function calls: 538\n",
      "Number of iterations: 122\n",
      "Number of model building steps: 290\n",
      "Time in seconds: 0.3735830783843994\n"
     ]
    }
   ],
   "source": [
    "n = 10000\n",
    "x0 = 5.0 + rand(n)*10.0\n",
    "pmbout = pmbsolve(fun, x0)\n",
    "println(\"Objective function value: \", pmbout.fval)\n",
    "println(\"Norm of the gradient: \", norm(pmbout.g, Inf))\n",
    "println(\"Number of function calls: \", pmbout.fcalls)\n",
    "println(\"Number of iterations: \", pmbout.niter)\n",
    "println(\"Number of model building steps: \", pmbout.nmbs)\n",
    "println(\"Time in seconds: \", pmbout.time)"
   ]
  },
  {
   "cell_type": "markdown",
   "metadata": {},
   "source": [
    "We can also try other functions with even larger dimensions. For instance a 100K-dimensional ```nonscomp```, whose optimal objective function value is again 0.0."
   ]
  },
  {
   "cell_type": "code",
   "execution_count": 9,
   "metadata": {},
   "outputs": [
    {
     "name": "stdout",
     "output_type": "stream",
     "text": [
      "Function value decreases less than ftol\n",
      "Objective function value: 1.4852851712215866e-8\n",
      "Norm of the gradient: 0.0001796682873669323\n",
      "Number of function calls: 589\n",
      "Number of iterations: 44\n",
      "Number of model building steps: 296\n",
      "Time in seconds: 1.462162971496582\n"
     ]
    }
   ],
   "source": [
    "fun = funcs[6]\n",
    "n = 100000\n",
    "x0 = 5.0 + rand(n)*10.0\n",
    "pmbout = pmbsolve(fun, x0)\n",
    "println(\"Objective function value: \", pmbout.fval)\n",
    "println(\"Norm of the gradient: \", norm(pmbout.g, Inf))\n",
    "println(\"Number of function calls: \", pmbout.fcalls)\n",
    "println(\"Number of iterations: \", pmbout.niter)\n",
    "println(\"Number of model building steps: \", pmbout.nmbs)\n",
    "println(\"Time in seconds: \", pmbout.time)"
   ]
  },
  {
   "cell_type": "markdown",
   "metadata": {
    "collapsed": true
   },
   "source": [
    "## Options\n",
    "\n",
    "The solver also takes an optional argument ```pars```. This parameter has the following fields. Note that the default values of the parameters are given in parantheses:\n",
    "\n",
    "* ```M```: The memory size for the preconditioner (```5```)\n",
    "* ```gtol```: The tolerance for the first-order optimality (```1.0e-5```)\n",
    "* ```ftol```: The normalized difference between two consecutive function values (```1.0e-8```)\n",
    "* ```display```: To display information about the progress in every iteration (```false```)\n",
    "* ```message```: Shows a message about the exit condition or errors (```true```)\n",
    "* ```history```: Stores the function values and the first-order errors throughout the iterations (```false```) \n",
    "* ```maxiter```: Maximum number of iterations (```1000```)\n",
    "* ```maxiniter```: Maximum number of inner iterations for model building (```100```)\n",
    "* ```maxfcalls```: Maximum number of function calls (```1000```)\n",
    "* ```maxtime```: Maximum computation time in seconds (```3600```)\n",
    "\n",
    "To change one of these parameters, we need to specify the value by using ```pars``` keyword defined within ```pmbsolve```. Suppose that we want to plot the progress of the objective function values when ```pmbsolve``` is called for 100-dimensional ```fletchcr``` (optimal objective function value is 0.0)."
   ]
  },
  {
   "cell_type": "code",
   "execution_count": 11,
   "metadata": {},
   "outputs": [
    {
     "data": {
      "image/png": "[encoded data removed]",
      "text/plain": [
       "PyPlot.Figure(PyObject <matplotlib.figure.Figure object at 0x320daad50>)"
      ]
     },
     "metadata": {},
     "output_type": "display_data"
    },
    {
     "name": "stdout",
     "output_type": "stream",
     "text": [
      "Iter: 0 ===> \t f = 141336396.687561 \t norm(g) = 13968.937405\n",
      "Iter: 1 ===> \t f = 117266163.503069 \t norm(g) = 11345.048044\n",
      "Iter: 2 ===> \t f = 27840664.357505 \t norm(g) = 3740.726424\n",
      "Iter: 3 ===> \t f = 10510192.644538 \t norm(g) = 1635.287848\n",
      "Iter: 4 ===> \t f = 3182844.093602 \t norm(g) = 722.028986\n",
      "Iter: 5 ===> \t f = 1012924.542429 \t norm(g) = 275.988175\n",
      "Iter: 6 ===> \t f = 303333.065849 \t norm(g) = 138.997521\n",
      "Iter: 7 ===> \t f = 86881.105829 \t norm(g) = 47.043249\n",
      "Iter: 8 ===> \t f = 22412.631549 \t norm(g) = 31.180470\n",
      "Iter: 9 ===> \t f = 5203.327602 \t norm(g) = 33.670195\n",
      "Iter: 10 ===> \t f = 1536.105969 \t norm(g) = 33.572104\n",
      "Iter: 11 ===> \t f = 189.424288 \t norm(g) = 11.428034\n",
      "Iter: 12 ===> \t f = 33.928834 \t norm(g) = 5.693095\n",
      "Iter: 13 ===> \t f = 6.573802 \t norm(g) = 0.761157\n",
      "Iter: 14 ===> \t f = 2.719851 \t norm(g) = 0.465036\n",
      "Iter: 15 ===> \t f = 0.454353 \t norm(g) = 0.098977\n",
      "Iter: 16 ===> \t f = 0.033668 \t norm(g) = 0.035041\n",
      "Iter: 17 ===> \t f = 0.010980 \t norm(g) = 0.043873\n",
      "Iter: 18 ===> \t f = 0.000580 \t norm(g) = 0.011647\n",
      "Iter: 19 ===> \t f = 0.000180 \t norm(g) = 0.010553\n",
      "Iter: 20 ===> \t f = 0.000069 \t norm(g) = 0.000895\n",
      "Iter: 21 ===> \t f = 0.000039 \t norm(g) = 0.000975\n",
      "Iter: 22 ===> \t f = 0.000004 \t norm(g) = 0.000807\n",
      "Iter: 23 ===> \t f = 0.000001 \t norm(g) = 0.000338\n",
      "Iter: 24 ===> \t f = 0.000000 \t norm(g) = 0.000186\n",
      "Iter: 25 ===> \t f = 0.000000 \t norm(g) = 0.000031\n",
      "Function value decreases less than ftol\n"
     ]
    }
   ],
   "source": [
    "fun = funcs[2]\n",
    "n = 100\n",
    "x0 = 5.0 + rand(n)*10.0\n",
    "pars.history = true\n",
    "pars.display = true\n",
    "pmbout = pmbsolve(fun, x0, pars) # NOTE the third optional argument\n",
    "\n",
    "using PyPlot\n",
    "x = 1:length(pmbout.fhist)\n",
    "plot(x, pmbout.fhist, color=\"red\", linewidth=2.0, linestyle=\"--\");"
   ]
  }
 ],
 "metadata": {
  "kernelspec": {
   "display_name": "Julia 0.4.6",
   "language": "julia",
   "name": "julia-0.4"
  },
  "language_info": {
   "file_extension": ".jl",
   "mimetype": "application/julia",
   "name": "julia",
   "version": "0.4.6"
  }
 },
 "nbformat": 4,
 "nbformat_minor": 2
}
