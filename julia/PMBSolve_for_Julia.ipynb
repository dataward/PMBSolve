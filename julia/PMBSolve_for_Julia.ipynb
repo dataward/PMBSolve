{
 "cells": [
  {
   "cell_type": "markdown",
   "metadata": {},
   "source": [
    "# Preconditioned Model Building (PMB)\n",
    "\n",
    "PMB is a method for solving differentiable unconstrained optimization problems. The method requires two arguments: a handle to the objective function, $f:\\mathbb{R}^n \\mapsto \\mathbb{R}$ and an initial starting solution, $x_0 \\in \\mathbb{R}^n$. The function handle should return the function value as well as the gradient vector. There is also an optional third argument ```pars```, which is used to specify different parameters (more on this later). \n",
    "\n",
    "Here are six functions that we shall use for demonstrating PMB."
   ]
  },
  {
   "cell_type": "code",
   "execution_count": 18,
   "metadata": {},
   "outputs": [],
   "source": [
    "include(\"testfunctions.jl\")\n",
    "funcs = [rosenbrock, fletchcr, eg2, liarwhd, edensch, nonscomp];"
   ]
  },
  {
   "cell_type": "markdown",
   "metadata": {},
   "source": [
    "Let's start with the well-known ```rosenbrock```. The optimal objective function value for this function is 0.0. First we need to include the PMB solver called ```pmbsolve```."
   ]
  },
  {
   "cell_type": "code",
   "execution_count": 2,
   "metadata": {},
   "outputs": [
    {
     "data": {
      "text/plain": [
       "pmbsolve (generic function with 2 methods)"
      ]
     },
     "execution_count": 2,
     "metadata": {},
     "output_type": "execute_result"
    }
   ],
   "source": [
    "include(\"pmbsolve.jl\")"
   ]
  },
  {
   "cell_type": "markdown",
   "metadata": {},
   "source": [
    "We then create a handle to the function and an initial starting solution."
   ]
  },
  {
   "cell_type": "code",
   "execution_count": 9,
   "metadata": {},
   "outputs": [],
   "source": [
    "fun = funcs[1] # handle to the function\n",
    "n = 10 # dimension of the problem\n",
    "# initial starting solution\n",
    "x0 = 5.0 + rand(n)*10.0;"
   ]
  },
  {
   "cell_type": "code",
   "execution_count": 10,
   "metadata": {},
   "outputs": [
    {
     "name": "stdout",
     "output_type": "stream",
     "text": [
      "Function value decreases less than ftol\n"
     ]
    }
   ],
   "source": [
    "pmbout = pmbsolve(fun, x0);"
   ]
  },
  {
   "cell_type": "markdown",
   "metadata": {},
   "source": [
    "Here is the output structure."
   ]
  },
  {
   "cell_type": "code",
   "execution_count": 11,
   "metadata": {},
   "outputs": [
    {
     "data": {
      "text/plain": [
       "10-element Array{Symbol,1}:\n",
       " :x     \n",
       " :fval  \n",
       " :g     \n",
       " :fhist \n",
       " :nghist\n",
       " :fcalls\n",
       " :niter \n",
       " :nmbs  \n",
       " :exit  \n",
       " :time  "
      ]
     },
     "execution_count": 11,
     "metadata": {},
     "output_type": "execute_result"
    }
   ],
   "source": [
    "fieldnames(pmbout)"
   ]
  },
  {
   "cell_type": "markdown",
   "metadata": {},
   "source": [
    "The description of each field is given below:\n",
    "* ```fcalls```: Total number of function calls to solve the problem\n",
    "* ```nmbs```: Total number of times a model is built during the inner iterations\n",
    "* ```exit```: Exit status (the associated parameters with each status is given in parantheses)\n",
    "    * 1: First order condition is met (```pars.gtol```)\n",
    "    * 0: Maximum number of inner iterations is reached (```pars.maxiniter```)\n",
    "    * -1: Maximum number of iterations is reached (```pars.maxiter```)\n",
    "    * -2: Maximum number of function calls is reached (```pars.maxfcalls```)\n",
    "    * -3: Time limit is reached (```pars.maxtime```)\n",
    "    * -4: Change in function value between two consecutive iterations is below tolerance (```pars.ftol```)\n",
    "* ```time```: Time to solve the problem in seconds\n",
    "* ```x```: Final solution\n",
    "* ```g```: Final gradient at $x$\n",
    "* ```niter```: Number of iterations"
   ]
  },
  {
   "cell_type": "code",
   "execution_count": 12,
   "metadata": {},
   "outputs": [
    {
     "name": "stdout",
     "output_type": "stream",
     "text": [
      "Objective function value: 9.475177814566292e-10\n",
      "Norm of the gradient: 0.0006696419664557355\n",
      "Number of function calls: 143\n",
      "Number of iterations: 100\n",
      "Number of model building steps: 43\n",
      "Time in seconds: 0.3386859893798828\n"
     ]
    }
   ],
   "source": [
    "println(\"Objective function value: \", pmbout.fval)\n",
    "println(\"Norm of the gradient: \", norm(pmbout.g, Inf))\n",
    "println(\"Number of function calls: \", pmbout.fcalls)\n",
    "println(\"Number of iterations: \", pmbout.niter)\n",
    "println(\"Number of model building steps: \", pmbout.nmbs)\n",
    "println(\"Time in seconds: \", pmbout.time)"
   ]
  },
  {
   "cell_type": "markdown",
   "metadata": {},
   "source": [
    "How about a large-scale version of the same problem?"
   ]
  },
  {
   "cell_type": "code",
   "execution_count": 13,
   "metadata": {},
   "outputs": [
    {
     "name": "stdout",
     "output_type": "stream",
     "text": [
      "Function value decreases less than ftol\n",
      "Objective function value: 4.946259545534196e-9\n",
      "Norm of the gradient: 0.002107824424989932\n",
      "Number of function calls: 245\n",
      "Number of iterations: 82\n",
      "Number of model building steps: 63\n",
      "Time in seconds: 0.040992021560668945\n"
     ]
    }
   ],
   "source": [
    "n = 1000\n",
    "x0 = 5.0 + rand(n)*10.0\n",
    "pmbout = pmbsolve(fun, x0)\n",
    "println(\"Objective function value: \", pmbout.fval)\n",
    "println(\"Norm of the gradient: \", norm(pmbout.g, Inf))\n",
    "println(\"Number of function calls: \", pmbout.fcalls)\n",
    "println(\"Number of iterations: \", pmbout.niter)\n",
    "println(\"Number of model building steps: \", pmbout.nmbs)\n",
    "println(\"Time in seconds: \", pmbout.time)"
   ]
  },
  {
   "cell_type": "markdown",
   "metadata": {},
   "source": [
    "We can also try other functions with even larger dimensions. For instance a 100K-dimensional ```nonscomp```, whose optimal objective function value is again 0.0."
   ]
  },
  {
   "cell_type": "code",
   "execution_count": 15,
   "metadata": {},
   "outputs": [
    {
     "name": "stdout",
     "output_type": "stream",
     "text": [
      "Function value decreases less than ftol\n",
      "Objective function value: 1.2032107072350768e-8\n",
      "Norm of the gradient: 0.000642952821870513\n",
      "Number of function calls: 308\n",
      "Number of iterations: 55\n",
      "Number of model building steps: 71\n",
      "Time in seconds: 1.6493680477142334\n"
     ]
    }
   ],
   "source": [
    "fun = funcs[6]\n",
    "n = 100000\n",
    "x0 = 5.0 + rand(n)*10.0\n",
    "pmbout = pmbsolve(fun, x0)\n",
    "println(\"Objective function value: \", pmbout.fval)\n",
    "println(\"Norm of the gradient: \", norm(pmbout.g, Inf))\n",
    "println(\"Number of function calls: \", pmbout.fcalls)\n",
    "println(\"Number of iterations: \", pmbout.niter)\n",
    "println(\"Number of model building steps: \", pmbout.nmbs)\n",
    "println(\"Time in seconds: \", pmbout.time)"
   ]
  },
  {
   "cell_type": "markdown",
   "metadata": {
    "collapsed": true
   },
   "source": [
    "## Options\n",
    "\n",
    "The solver also takes an optional argument ```pars```. This parameter has the following fields. Note that the default values of the parameters are given in parantheses:\n",
    "\n",
    "* ```M```: The memory size for the preconditioner (```5```)\n",
    "* ```gtol```: The tolerance for the first-order optimality (```1.0e-5```)\n",
    "* ```ftol```: The normalized difference between two consecutive function values (```1.0e-8```)\n",
    "* ```display```: To display information about the progress in every iteration (```false```)\n",
    "* ```message```: Shows a message about the exit condition or errors (```true```)\n",
    "* ```history```: Stores the function values and the first-order errors throughout the iterations (```false```) \n",
    "* ```maxiter```: Maximum number of iterations (```1000```)\n",
    "* ```maxiniter```: Maximum number of inner iterations for model building (```100```)\n",
    "* ```maxfcalls```: Maximum number of function calls (```1000```)\n",
    "* ```maxtime```: Maximum computation time in seconds (```3600```)\n",
    "\n",
    "To change one of these parameters, we need to specify the value by using ```pars``` keyword defined within ```pmbsolve```. Suppose that we want to plot the progress of the objective function values when ```pmbsolve``` is called for 100-dimensional ```fletchcr``` (optimal objective function value is 0.0)."
   ]
  },
  {
   "cell_type": "code",
   "execution_count": 20,
   "metadata": {},
   "outputs": [
    {
     "data": {
      "image/png": "[encoded data removed]",
      "text/plain": [
       "PyPlot.Figure(PyObject <matplotlib.figure.Figure object at 0x30c0e6f50>)"
      ]
     },
     "metadata": {},
     "output_type": "display_data"
    },
    {
     "name": "stdout",
     "output_type": "stream",
     "text": [
      "Iter: 1 ===> \t f = 160869524.586439 \t norm(g) = 13596.557454\n",
      "Iter: 2 ===> \t f = 131222887.358407 \t norm(g) = 11033.170501\n",
      "Iter: 3 ===> \t f = 31077182.042412 \t norm(g) = 3683.443430\n",
      "Iter: 4 ===> \t f = 11798623.119479 \t norm(g) = 1626.527669\n",
      "Iter: 5 ===> \t f = 3587560.425046 \t norm(g) = 698.877222\n",
      "Iter: 6 ===> \t f = 1145427.247675 \t norm(g) = 276.576436\n",
      "Iter: 7 ===> \t f = 345072.043188 \t norm(g) = 132.431268\n",
      "Iter: 8 ===> \t f = 99976.767518 \t norm(g) = 49.601877\n",
      "Iter: 9 ===> \t f = 26352.756125 \t norm(g) = 29.287126\n",
      "Iter: 10 ===> \t f = 5931.343865 \t norm(g) = 15.018123\n",
      "Iter: 11 ===> \t f = 1031.071951 \t norm(g) = 12.191529\n",
      "Iter: 12 ===> \t f = 53.071468 \t norm(g) = 3.532331\n",
      "Iter: 13 ===> \t f = 37.075824 \t norm(g) = 6.369045\n",
      "Iter: 14 ===> \t f = 2.501491 \t norm(g) = 0.672746\n",
      "Iter: 15 ===> \t f = 1.077525 \t norm(g) = 0.147941\n",
      "Iter: 16 ===> \t f = 0.499614 \t norm(g) = 0.124449\n",
      "Iter: 17 ===> \t f = 0.027903 \t norm(g) = 0.091206\n",
      "Iter: 18 ===> \t f = 0.012052 \t norm(g) = 0.032381\n",
      "Iter: 19 ===> \t f = 0.000519 \t norm(g) = 0.004124\n",
      "Iter: 20 ===> \t f = 0.000153 \t norm(g) = 0.002254\n",
      "Iter: 21 ===> \t f = 0.000010 \t norm(g) = 0.000661\n",
      "Iter: 22 ===> \t f = 0.000006 \t norm(g) = 0.001190\n",
      "Iter: 23 ===> \t f = 0.000000 \t norm(g) = 0.000429\n",
      "Iter: 24 ===> \t f = 0.000000 \t norm(g) = 0.000232\n",
      "Iter: 25 ===> \t f = 0.000000 \t norm(g) = 0.000048\n",
      "Iter: 26 ===> \t f = 0.000000 \t norm(g) = 0.000024\n",
      "Iter: 27 ===> \t f = 0.000000 \t norm(g) = 0.000017\n",
      "First order condition is within gtol\n"
     ]
    }
   ],
   "source": [
    "fun = funcs[2]\n",
    "n = 100\n",
    "x0 = 5.0 + rand(n)*10.0\n",
    "pars.history = true\n",
    "pars.display = true\n",
    "pmbout = pmbsolve(fun, x0, pars) # NOTE the third optional argument\n",
    "\n",
    "Pkg.add(\"PyPlot\")\n",
    "using PyPlot\n",
    "x = 1:length(pmbout.fhist)\n",
    "plot(x, pmbout.fhist, color=\"red\", linewidth=2.0, linestyle=\"--\");"
   ]
  }
 ],
 "metadata": {
  "kernelspec": {
   "display_name": "Julia 0.4.6",
   "language": "julia",
   "name": "julia-0.4"
  },
  "language_info": {
   "file_extension": ".jl",
   "mimetype": "application/julia",
   "name": "julia",
   "version": "0.4.6"
  }
 },
 "nbformat": 4,
 "nbformat_minor": 2
}
